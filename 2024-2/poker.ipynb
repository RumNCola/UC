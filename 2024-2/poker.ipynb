{
 "cells": [
  {
   "cell_type": "markdown",
   "metadata": {},
   "source": [
    "### Estudio del Poker con simulaciones y optimización\n",
    "Fernando Jara"
   ]
  },
  {
   "cell_type": "code",
   "execution_count": 14,
   "metadata": {},
   "outputs": [],
   "source": [
    "import numpy as np\n",
    "import random\n",
    "import math\n"
   ]
  },
  {
   "cell_type": "markdown",
   "metadata": {},
   "source": [
    "### Definiciones generales"
   ]
  },
  {
   "cell_type": "code",
   "execution_count": 17,
   "metadata": {},
   "outputs": [],
   "source": [
    "#Conjunto de números\n",
    "numeros = [i for i in range(1,10)]\n",
    "numeros.extend(['J', 'Q', 'K', 'A'])\n",
    "\n",
    "#Conjunto de cartas\n",
    "C = {\n",
    "    str(pinta) + str(numero) for pinta in ['♥', '♠', '♣', '♦'] for numero in numeros\n",
    "}\n",
    "\n",
    "#Conjunto de jugadas\n",
    "P = {\n",
    "    \n",
    "}\n",
    "\n"
   ]
  },
  {
   "cell_type": "code",
   "execution_count": 12,
   "metadata": {},
   "outputs": [],
   "source": [
    "#Parametros\n",
    "\n",
    "n = 3 #Número de jugadores\n",
    "pos = 2 #Posición en la mesa"
   ]
  },
  {
   "cell_type": "code",
   "execution_count": 21,
   "metadata": {},
   "outputs": [],
   "source": [
    "def repartir_cartas(numero_jugadores: int) -> tuple:\n",
    "    \"\"\"\n",
    "    Función que reparte cartas entre los jugadores enterados\n",
    "    \"\"\"\n",
    "    mazo = [i for i in C]\n",
    "    random.shuffle(mazo)\n",
    "\n",
    "    manos = []\n",
    "    for _ in range(numero_jugadores):\n",
    "        manos.append([mazo.pop(0), mazo.pop(0)])\n",
    "    \n",
    "    return manos, mazo\n",
    "\n",
    "def river(mazo: list) -> tuple:\n",
    "    \"\"\"\n",
    "    Función que saca tres cartas del mazo para el river\n",
    "    \"\"\"\n",
    "    river = []\n",
    "    for _ in range(3):\n",
    "        river.append(mazo.pop(0))\n",
    "    \n",
    "    return river, mazo\n",
    "\n",
    "def flush(mazo: list) -> tuple:\n",
    "    \"\"\"\n",
    "    Función que saca una carta para el flush\n",
    "    \"\"\"\n",
    "    flush = []\n",
    "    flush.append(mazo.pop(0))\n",
    "\n",
    "    return flush, mazo\n"
   ]
  },
  {
   "cell_type": "code",
   "execution_count": null,
   "metadata": {},
   "outputs": [],
   "source": [
    "def simular_cartas(numero_jugadores: int) -> tuple:\n",
    "    \"\"\"\n",
    "    Función que simula la reparticion de cartas a lo largo de un juego\n",
    "    \"\"\"\n",
    "    cartas_en_mesa = []\n",
    "    manos, mazo = repartir_cartas(numero_jugadores)\n",
    "\n",
    "    rver, mazo_2 = river(mazo)\n",
    "    cartas_en_mesa.extend(rver)\n",
    "\n",
    "    fsh, mazo = river(mazo_2)\n",
    "    cartas_en_mesa.extend(fsh)\n",
    "\n",
    "    fsh, mazo = river(mazo)\n",
    "    cartas_en_mesa.extend(fsh)\n",
    "\n",
    "    print(f'Manos de los jugadores: {manos}')\n",
    "    print(f'Cartas en mesa: {cartas_en_mesa}')\n",
    "    \n",
    "    return manos, cartas_en_mesa"
   ]
  },
  {
   "cell_type": "code",
   "execution_count": 36,
   "metadata": {},
   "outputs": [
    {
     "name": "stdout",
     "output_type": "stream",
     "text": [
      "Manos de los jugadores: [['♣4', '♥9'], ['♣J', '♠3'], ['♥1', '♦K']]\n",
      "Cartas en mesa: ['♣3', '♥4', '♥8', '♣1', '♦7', '♠9', '♥5', '♦2', '♣2']\n"
     ]
    }
   ],
   "source": [
    "simular_cartas(n)"
   ]
  }
 ],
 "metadata": {
  "kernelspec": {
   "display_name": "Python 3",
   "language": "python",
   "name": "python3"
  },
  "language_info": {
   "codemirror_mode": {
    "name": "ipython",
    "version": 3
   },
   "file_extension": ".py",
   "mimetype": "text/x-python",
   "name": "python",
   "nbconvert_exporter": "python",
   "pygments_lexer": "ipython3",
   "version": "3.11.9"
  }
 },
 "nbformat": 4,
 "nbformat_minor": 2
}
