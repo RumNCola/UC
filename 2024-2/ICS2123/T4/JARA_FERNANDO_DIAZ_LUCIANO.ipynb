{
 "cells": [
  {
   "cell_type": "markdown",
   "metadata": {},
   "source": [
    "# Tarea 4\n",
    "\n",
    "### Luciano Diaz y Fernando Jara, Sección 2"
   ]
  },
  {
   "cell_type": "code",
   "execution_count": 1,
   "metadata": {},
   "outputs": [],
   "source": [
    "import numpy as np\n",
    "import sympy as sp"
   ]
  },
  {
   "cell_type": "markdown",
   "metadata": {},
   "source": [
    "# Pregunta 3.c"
   ]
  },
  {
   "cell_type": "code",
   "execution_count": 2,
   "metadata": {},
   "outputs": [],
   "source": [
    "#parametros\n",
    "M = 24\n",
    "lmb = 0.5\n",
    "mu = [0.1, 0.3, 0.5, 0.7]"
   ]
  },
  {
   "cell_type": "code",
   "execution_count": 3,
   "metadata": {},
   "outputs": [],
   "source": [
    "def resolver_sistema(M: int, lmb: float, mu: float) -> tuple:\n",
    "    \"\"\"\n",
    "    Función que resuelve sistemas de ecuaciones para CMTC\n",
    "    \"\"\"\n",
    "    # Definir las variables de probabilidades \n",
    "    P = [sp.symbols(f'P{i}') for i in range(M+1)]\n",
    "    \n",
    "    # Crear la lista de ecuaciones\n",
    "    ecuaciones = []\n",
    "    diccionario_ecuaciones = {}\n",
    "\n",
    "    # Primera ecuación: P0 * (5/2 * mu) = lambda * P1\n",
    "    ecuacion = P[0] * 5 * mu / 2 - lmb * P[1]\n",
    "    ecuaciones.append(ecuacion)\n",
    "    diccionario_ecuaciones[0] = ecuacion\n",
    "\n",
    "    # Ecuaciones recursivas para i ∈ {1, 2}\n",
    "    for i in range(1, 3):\n",
    "        ecuacion = P[i] * (lmb + 5 * mu / 2) - P[i-1] * (5 * mu / 2) - lmb * P[i+1]\n",
    "        ecuaciones.append(ecuacion)\n",
    "        diccionario_ecuaciones[i] = ecuacion\n",
    "    \n",
    "    # Ecuaciones recursivas para i ∈ {3, M//2 - 1}\n",
    "    for i in range(3, M // 2):\n",
    "        ecuacion = P[i] * (lmb + mu) - P[i-1] * mu - lmb * P[i+1]\n",
    "        ecuaciones.append(ecuacion)\n",
    "        diccionario_ecuaciones[i] = ecuacion\n",
    "    \n",
    "    # Ecuaciones recursivas para i ∈ {M//2, M-1}\n",
    "    for i in range(M // 2, M - 1):\n",
    "        ecuacion = P[i] * (mu + 3 * lmb / 2) - P[i-1] * mu - P[i + 1] * 3 * lmb / 2\n",
    "        ecuaciones.append(ecuacion)\n",
    "        diccionario_ecuaciones[i] = ecuacion\n",
    "\n",
    "    # Última ecuación: PM * (3/2 * lmb) - mu * P(M-1)\n",
    "    ecuacion = P[M] * 3 * lmb / 2 - mu * P[M - 1]\n",
    "    ecuaciones.append(ecuacion)\n",
    "    diccionario_ecuaciones[M] = ecuacion\n",
    "\n",
    "    # Ecuación de normalización: suma de las probabilidades = 1\n",
    "    ecuacion_normalizacion = sum(P) - 1\n",
    "    ecuaciones.append(ecuacion_normalizacion)\n",
    "    diccionario_ecuaciones['normalizacion'] = ecuacion_normalizacion\n",
    "\n",
    "    # Resolver el sistema de ecuaciones\n",
    "    soluciones = sp.solve(ecuaciones, P)\n",
    "    print(soluciones)\n",
    "    print(len(P))\n",
    "    print(len(ecuaciones))\n",
    "\n",
    "    # Guardar soluciones en el diccionario usando las variables simbólicas\n",
    "    diccionario_soluciones = {i: soluciones[P[i]] for i in range(M+1)}\n",
    "\n",
    "\n",
    "    return diccionario_ecuaciones, diccionario_soluciones\n"
   ]
  },
  {
   "cell_type": "code",
   "execution_count": null,
   "metadata": {},
   "outputs": [
    {
     "name": "stdout",
     "output_type": "stream",
     "text": [
      "{P0: 0.265229999499377, P1: 0.132614999749689, P10: 0.0248654185450664, P11: 0.0248653336714666, P12: 0.0248653166967466, P13: 0.0248653144334506, P14: 0.0248653141316778, P15: 0.0248653140914414, P16: 0.0248653140860766, P17: 0.0248653140853613, P18: 0.0248653140852659, P19: 0.0248653140852532, P2: 0.0663074998748443, P20: 0.0248653140852515, P21: 0.0248653140852513, P22: 0.0248653140852512, P23: 0.0248653140852512, P24: 0.00331537521136683, P3: 0.0331537499374222, P4: 0.0265229999499377, P5: 0.0251968499524408, P6: 0.0249316199529415, P7: 0.0248785739530416, P8: 0.0248679647530616, P9: 0.0248658429130656}\n",
      "25\n",
      "25\n",
      "0.1\n",
      "\n",
      "Soluciones del sistema:\n",
      "P0 = 0.265229999499377\n",
      "P1 = 0.132614999749689\n",
      "P2 = 0.0663074998748443\n",
      "P3 = 0.0331537499374222\n",
      "P4 = 0.0265229999499377\n",
      "P5 = 0.0251968499524408\n",
      "P6 = 0.0249316199529415\n",
      "P7 = 0.0248785739530416\n",
      "P8 = 0.0248679647530616\n",
      "P9 = 0.0248658429130656\n",
      "P10 = 0.0248654185450664\n",
      "P11 = 0.0248653336714666\n",
      "P12 = 0.0248653166967466\n",
      "P13 = 0.0248653144334506\n",
      "P14 = 0.0248653141316778\n",
      "P15 = 0.0248653140914414\n",
      "P16 = 0.0248653140860766\n",
      "P17 = 0.0248653140853613\n",
      "P18 = 0.0248653140852659\n",
      "P19 = 0.0248653140852532\n",
      "P20 = 0.0248653140852515\n",
      "P21 = 0.0248653140852513\n",
      "P22 = 0.0248653140852512\n",
      "P23 = 0.0248653140852512\n",
      "P24 = 0.00331537521136683\n",
      "{P0: 0.00919273830427586, P1: 0.0137891074564138, P10: 0.0461039800620932, P11: 0.0462776831034145, P12: 0.0463819049282073, P13: 0.0464235936581245, P14: 0.0464402691500913, P15: 0.0464469393468780, P16: 0.0464496074255927, P17: 0.0464506746570786, P18: 0.0464511015496730, P19: 0.0464512723067107, P2: 0.0206836611846207, P20: 0.0464513406095258, P21: 0.0464513679306518, P22: 0.0464513788591023, P23: 0.0464513832304824, P24: 0.0185805532921930, P3: 0.0310254917769310, P4: 0.0372305901323172, P5: 0.0409536491455490, P6: 0.0431874845534880, P7: 0.0445277857982514, P8: 0.0453319665451095, P9: 0.0458144749932243}\n",
      "25\n",
      "25\n",
      "0.3\n",
      "\n",
      "Soluciones del sistema:\n",
      "P0 = 0.00919273830427586\n",
      "P1 = 0.0137891074564138\n",
      "P2 = 0.0206836611846207\n",
      "P3 = 0.0310254917769310\n",
      "P4 = 0.0372305901323172\n",
      "P5 = 0.0409536491455490\n",
      "P6 = 0.0431874845534880\n",
      "P7 = 0.0445277857982514\n",
      "P8 = 0.0453319665451095\n",
      "P9 = 0.0458144749932243\n",
      "P10 = 0.0461039800620932\n",
      "P11 = 0.0462776831034145\n",
      "P12 = 0.0463819049282073\n",
      "P13 = 0.0464235936581245\n",
      "P14 = 0.0464402691500913\n",
      "P15 = 0.0464469393468780\n",
      "P16 = 0.0464496074255927\n",
      "P17 = 0.0464506746570786\n",
      "P18 = 0.0464511015496730\n",
      "P19 = 0.0464512723067107\n",
      "P20 = 0.0464513406095258\n",
      "P21 = 0.0464513679306518\n",
      "P22 = 0.0464513788591023\n",
      "P23 = 0.0464513832304824\n",
      "P24 = 0.0185805532921930\n",
      "{P0: 0.000516507397675468, P1: 0.00129126849418867, P10: 0.0419662260611318, P11: 0.0468084829143393, P12: 0.0516507397675468, P13: 0.0548789110030185, P14: 0.0570310251599996, P15: 0.0584657679313204, P16: 0.0594222631122009, P17: 0.0600599265661212, P18: 0.0604850355354014, P19: 0.0607684415149216, P2: 0.00322817123547168, P20: 0.0609573788346017, P21: 0.0610833370477217, P22: 0.0611673091898018, P23: 0.0612232906178551, P24: 0.0408155270785701, P3: 0.00807042808867919, P4: 0.0129126849418867, P5: 0.0177549417950942, P6: 0.0225971986483017, P7: 0.0274394555015093, P8: 0.0322817123547168, P9: 0.0371239692079243}\n",
      "25\n",
      "25\n",
      "0.5\n",
      "\n",
      "Soluciones del sistema:\n",
      "P0 = 0.000516507397675468\n",
      "P1 = 0.00129126849418867\n",
      "P2 = 0.00322817123547168\n",
      "P3 = 0.00807042808867919\n",
      "P4 = 0.0129126849418867\n",
      "P5 = 0.0177549417950942\n",
      "P6 = 0.0225971986483017\n",
      "P7 = 0.0274394555015093\n",
      "P8 = 0.0322817123547168\n",
      "P9 = 0.0371239692079243\n",
      "P10 = 0.0419662260611318\n",
      "P11 = 0.0468084829143393\n",
      "P12 = 0.0516507397675468\n",
      "P13 = 0.0548789110030185\n",
      "P14 = 0.0570310251599996\n",
      "P15 = 0.0584657679313204\n",
      "P16 = 0.0594222631122009\n",
      "P17 = 0.0600599265661212\n",
      "P18 = 0.0604850355354014\n",
      "P19 = 0.0607684415149216\n",
      "P20 = 0.0609573788346017\n",
      "P21 = 0.0610833370477217\n",
      "P22 = 0.0611673091898018\n",
      "P23 = 0.0612232906178551\n",
      "P24 = 0.0408155270785701\n",
      "{P0: 1.46198045523076e-5, P1: 5.11693159330764e-5, P10: 0.0155786955447074, P11: 0.0221862682346984, P12: 0.0314368700006859, P13: 0.0400707649822742, P14: 0.0481290669650900, P15: 0.0556501488157180, P16: 0.0626698252096375, P17: 0.0692215231772957, P18: 0.0753364412804434, P19: 0.0810436981767145, P2: 0.000179092605765768, P20: 0.0863704712799009, P21: 0.0913421261762082, P22: 0.0959823374127617, P23: 0.100313201233545, P24: 0.0936256544846420, P3: 0.000626824120180186, P4: 0.00125364824036037, P5: 0.00213120200861263, P6: 0.00335977728416580, P7: 0.00507978266994023, P8: 0.00748779021002443, P9: 0.0108590007661423}\n",
      "25\n",
      "25\n",
      "0.7\n",
      "\n",
      "Soluciones del sistema:\n",
      "P0 = 0.0000146198045523076\n",
      "P1 = 0.0000511693159330764\n",
      "P2 = 0.000179092605765768\n",
      "P3 = 0.000626824120180186\n",
      "P4 = 0.00125364824036037\n",
      "P5 = 0.00213120200861263\n",
      "P6 = 0.00335977728416580\n",
      "P7 = 0.00507978266994023\n",
      "P8 = 0.00748779021002443\n",
      "P9 = 0.0108590007661423\n",
      "P10 = 0.0155786955447074\n",
      "P11 = 0.0221862682346984\n",
      "P12 = 0.0314368700006859\n",
      "P13 = 0.0400707649822742\n",
      "P14 = 0.0481290669650900\n",
      "P15 = 0.0556501488157180\n",
      "P16 = 0.0626698252096375\n",
      "P17 = 0.0692215231772957\n",
      "P18 = 0.0753364412804434\n",
      "P19 = 0.0810436981767145\n",
      "P20 = 0.0863704712799009\n",
      "P21 = 0.0913421261762082\n",
      "P22 = 0.0959823374127617\n",
      "P23 = 0.100313201233545\n",
      "P24 = 0.0936256544846420\n"
     ]
    }
   ],
   "source": [
    "def resultados(m):\n",
    "    diccionario_ecuaciones, diccionario_soluciones = resolver_sistema(M, lmb, m)\n",
    "\n",
    "\n",
    "    # Imprimir las soluciones\n",
    "    print(\"\\nSoluciones del sistema:\")\n",
    "    for key, sol in diccionario_soluciones.items():\n",
    "        print(f\"P{key} = {sol}\")\n",
    "\n",
    "for m in mu:\n",
    "    resultados(m)"
   ]
  },
  {
   "cell_type": "markdown",
   "metadata": {},
   "source": [
    "## Pregunta 3.e"
   ]
  },
  {
   "cell_type": "code",
   "execution_count": 5,
   "metadata": {},
   "outputs": [],
   "source": [
    "#Parametros\n",
    "M = 30\n",
    "lmb = 0.7\n",
    "mu = 0.8\n",
    "gamma = 0.2\n",
    "rho = 0.5"
   ]
  },
  {
   "cell_type": "code",
   "execution_count": null,
   "metadata": {},
   "outputs": [],
   "source": [
    "def resolver_sistema_2(M: int, lmb: float, mu: float, gamma: float, rho: float) -> tuple:\n",
    "    \"\"\"\n",
    "    Función que resuelve sistemas de ecuaciones para CMTC con tasas de permanencia y transición ajustadas.\n",
    "    \"\"\"\n",
    "    # Definir las variables de probabilidades \n",
    "    \n",
    "    # P = { (i, k): sp.symbols(f'P{str(i) + str(k)}') for i in range(M+1) for k in range(2) }\n",
    "    P = [sp.symbols(f'P{str(i) + str(k)}') for i in range(M+1) for k in range(2)]\n",
    "    # Crear la lista de ecuaciones\n",
    "    ecuaciones = []\n",
    "    diccionario_ecuaciones = {}\n",
    "    # Tasas de permanencia\n",
    "    v = {}\n",
    "    for i in range(M+1):\n",
    "        if i == 0:\n",
    "            v[(i, 0)] = (5 / 2) * mu + gamma\n",
    "            v[(i, 1)] = (5 / 2) * mu + rho\n",
    "        elif i == M:\n",
    "            v[(i, 0)] = (3 / 2) * lmb + gamma\n",
    "            v[(i, 1)] = rho\n",
    "        elif i in range(1, 3):\n",
    "            v[(i, 0)] = lmb + (5 / 2) * mu + gamma\n",
    "            v[(i, 1)] = (5 / 2) * mu + rho\n",
    "        elif i in range(3, M // 2):\n",
    "            v[(i, 0)] = lmb + mu + gamma\n",
    "            v[(i, 1)] = mu + rho\n",
    "        elif i in range(M // 2, M):\n",
    "            v[(i, 0)] = (3 / 2) * lmb + mu + gamma\n",
    "            v[(i, 1)] = mu + rho\n",
    "\n",
    "    # Tasas de transición instantánea\n",
    "    q = {}\n",
    "    for i in range(M+1):\n",
    "        #subida bajada\n",
    "        q[((i, 0), (i, 1))] = gamma\n",
    "        q[((i, 1), (i, 0))] = rho\n",
    "        \n",
    "        #izq\n",
    "        if 1 <= i < M // 2:\n",
    "            q[((i, 0), (i - 1, 0))] = lmb\n",
    "        elif M // 2 <= i <= M:\n",
    "            q[((i, 0), (i - 1, 0))] = (3 / 2) * lmb\n",
    "\n",
    "        #derecha\n",
    "        if 0 <= i < 3:\n",
    "            q[((i, 0), (i + 1, 0))] = (5 / 2) * mu\n",
    "            q[((i, 1), (i + 1, 1))] = (5 / 2) * mu\n",
    "        elif 3 <= i < M:\n",
    "            q[((i, 0), (i + 1, 0))] = mu\n",
    "            q[((i, 1), (i + 1, 1))] = mu\n",
    "    \n",
    "    # Ecuaciones para las tasas de permanencia y transición\n",
    "    for j in range(M + 1):\n",
    "        for k in range(2):\n",
    "            ecuacion = v[(j, k)] * P[2 * j + k]  \n",
    "            # Sumar las transiciones hacia (j, k) desde (i, k)\n",
    "            for i in [u for u in filter(lambda x: M >= x >= 0, [j - 1, j + 1])]:  \n",
    "                try:\n",
    "                    ecuacion -= q[((i, k),(j, k))] * P[2 * i +k]\n",
    "                                        \n",
    "                except KeyError as e:\n",
    "                    pass\n",
    " \n",
    "            ecuacion -= q[((j, 1 - k),(j, k))] * P[2 * j + (1 - k)]\n",
    "            ecuaciones.append(ecuacion)\n",
    "            diccionario_ecuaciones[(j, k)] = ecuacion\n",
    "\n",
    "    # Ecuación de normalización\n",
    "    ecuacion_normalizacion = sum(P[2 * i + k] for i in range(M+1) for k in range(2)) - 1\n",
    "    # print(ecuacion_normalizacion)\n",
    "    ecuaciones.append(ecuacion_normalizacion)\n",
    "    diccionario_ecuaciones['normalizacion'] = ecuacion_normalizacion\n",
    "\n",
    "    # Resolver el sistema de ecuaciones\n",
    "    soluciones = sp.solve(ecuaciones, P)\n",
    "    # Guardar soluciones en el diccionario usando las variables simbólicas\n",
    "    diccionario_soluciones = {(i, k): soluciones[P[2 * i + k]] for i in range(M+1) for k in range(2)}\n",
    "\n",
    "    return diccionario_ecuaciones, diccionario_soluciones\n"
   ]
  },
  {
   "cell_type": "code",
   "execution_count": 56,
   "metadata": {},
   "outputs": [
    {
     "name": "stdout",
     "output_type": "stream",
     "text": [
      "La proporcion del tiempo que anibal pasara en estado de quemar (0) y a tasa aumentada será del: 61.9454046142396 %\n"
     ]
    }
   ],
   "source": [
    "diccionario_ecuaciones, diccionario_soluciones = resolver_sistema_2(M, lmb, mu, gamma, rho)\n",
    "\n",
    "llaves_interes = filter(lambda x: x[1] == 0 and x[0] >= M / 2, diccionario_soluciones.keys())\n",
    "resultado = 0\n",
    "for key in llaves_interes:\n",
    "    resultado += diccionario_soluciones[key]\n",
    "\n",
    "print(f'La proporcion del tiempo que anibal pasara en estado de quemar (0) y a tasa aumentada será del: {resultado * 100} %')"
   ]
  },
  {
   "cell_type": "markdown",
   "metadata": {},
   "source": [
    "## Pregunta 3f)\n",
    "La probabilidad de que Aníbal se encuencre sobornando árbitros (Z = 1) es la siguiente."
   ]
  },
  {
   "cell_type": "code",
   "execution_count": 62,
   "metadata": {},
   "outputs": [
    {
     "name": "stdout",
     "output_type": "stream",
     "text": [
      "La proporcion del tiempo que anibal pasará sobornando arbitros: 28.5714285714286 %\n"
     ]
    }
   ],
   "source": [
    "resultado = 0\n",
    "\n",
    "llaves_interes = filter(lambda x: x[1] == 1, diccionario_soluciones.keys())\n",
    "for key in llaves_interes:\n",
    "    resultado += diccionario_soluciones[key]\n",
    "\n",
    "print(f'La proporcion del tiempo que anibal pasará sobornando arbitros: {resultado * 100} %')"
   ]
  },
  {
   "cell_type": "code",
   "execution_count": 63,
   "metadata": {},
   "outputs": [
    {
     "name": "stdout",
     "output_type": "stream",
     "text": [
      "La tasa efectiva de entrega de pruebas es de 0.800322994170251\n"
     ]
    }
   ],
   "source": [
    "resultado = 0\n",
    "\n",
    "for i in diccionario_soluciones.keys():\n",
    "    if 0 <= i[0] <= 2:\n",
    "        resultado += diccionario_soluciones[i] * 5 * mu / 2\n",
    "    elif 3 <= i[0] <= M:\n",
    "        resultado += diccionario_soluciones[i] * mu\n",
    "\n",
    "print(f'La tasa efectiva de entrega de pruebas es de {resultado}')"
   ]
  },
  {
   "cell_type": "code",
   "execution_count": 65,
   "metadata": {},
   "outputs": [
    {
     "name": "stdout",
     "output_type": "stream",
     "text": [
      "La tasa efectiva de destrucción de pruebas es de 1.00353248260977\n"
     ]
    }
   ],
   "source": [
    "resultado = 0\n",
    "magnitud = 0\n",
    "\n",
    "llaves_interes = filter(lambda x: x[1] == 0, diccionario_soluciones.keys())\n",
    "\n",
    "for i in llaves_interes:\n",
    "    if 0 <= i[0] < M // 2:\n",
    "        resultado += diccionario_soluciones[i] * lmb\n",
    "    elif M // 2 <= i[0] <= M:\n",
    "        resultado += diccionario_soluciones[i] * 3 * lmb / 2\n",
    "    magnitud += diccionario_soluciones[i]\n",
    "\n",
    "print(f'La tasa efectiva de destrucción de pruebas es de {resultado / magnitud}')"
   ]
  },
  {
   "cell_type": "code",
   "execution_count": 60,
   "metadata": {},
   "outputs": [
    {
     "name": "stdout",
     "output_type": "stream",
     "text": [
      "El número esperado de pruebas en el sistema es de 22.2597310644876\n",
      "\n",
      "El promedio de pruebas esperando a ser destruidas es de 23.1969917338995\n"
     ]
    }
   ],
   "source": [
    "resultado = 0\n",
    "\n",
    "for key in diccionario_soluciones.keys():\n",
    "    resultado += key[0] * diccionario_soluciones[key]\n",
    "\n",
    "print(f'El número esperado de pruebas en el sistema es de {resultado}')\n",
    "print()\n",
    "\n",
    "resultado = 0\n",
    "magnitud = 0\n",
    "for key in filter(lambda x: x[1] == 1 ,diccionario_soluciones):\n",
    "    resultado += key[0] * diccionario_soluciones[key]\n",
    "    magnitud += diccionario_soluciones[key]\n",
    "print(f'El promedio de pruebas esperando a ser destruidas es de {resultado / magnitud}')"
   ]
  },
  {
   "cell_type": "code",
   "execution_count": 66,
   "metadata": {},
   "outputs": [
    {
     "name": "stdout",
     "output_type": "stream",
     "text": [
      "Tiempo promedio en el sistema: 4.92610837438424\n",
      "Tiempo promedio desde que entra hasta que es destruida: 6.17610837438424\n"
     ]
    }
   ],
   "source": [
    "print(f'Tiempo promedio en el sistema: {1 / (1.003-0.8)}')\n",
    "\n",
    "print(f'Tiempo promedio desde que entra hasta que es destruida: {1.003/ (0.8* (1.003-0.8 ))}')"
   ]
  }
 ],
 "metadata": {
  "kernelspec": {
   "display_name": "Python 3",
   "language": "python",
   "name": "python3"
  },
  "language_info": {
   "codemirror_mode": {
    "name": "ipython",
    "version": 3
   },
   "file_extension": ".py",
   "mimetype": "text/x-python",
   "name": "python",
   "nbconvert_exporter": "python",
   "pygments_lexer": "ipython3",
   "version": "3.11.9"
  }
 },
 "nbformat": 4,
 "nbformat_minor": 2
}
