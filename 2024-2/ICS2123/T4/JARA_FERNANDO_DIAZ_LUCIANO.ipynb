{
 "cells": [
  {
   "cell_type": "markdown",
   "metadata": {},
   "source": [
    "# Tarea 4\n",
    "\n",
    "### Luciano Diaz y Fernando Jara, Sección 2"
   ]
  },
  {
   "cell_type": "code",
   "execution_count": 3,
   "metadata": {},
   "outputs": [],
   "source": [
    "import numpy as np\n",
    "import simpy as sp"
   ]
  },
  {
   "cell_type": "markdown",
   "metadata": {},
   "source": [
    "# Pregunta 3.c"
   ]
  },
  {
   "cell_type": "code",
   "execution_count": 4,
   "metadata": {},
   "outputs": [],
   "source": [
    "#parametros\n",
    "M = 24\n",
    "lmb = 0.5\n",
    "mu = np.array([0.1, 0.3, 0.5, 0.7])"
   ]
  },
  {
   "cell_type": "code",
   "execution_count": null,
   "metadata": {},
   "outputs": [],
   "source": [
    "def resolver_sistema(M: int, lmb: float, mu: float) -> tuple:\n",
    "    \"\"\"\n",
    "    Función que resuelve sistemas de ecuaciones para CMTC\n",
    "    \"\"\"\n",
    "    # Definir las variables de probabilidades \n",
    "    P = [sp.symbols(f'P{i}') for i in range(M+1)]\n",
    "    \n",
    "    # Crear la lista de ecuaciones\n",
    "    ecuaciones = []\n",
    "    diccionario_ecuaciones = {}\n",
    "\n",
    "    # Primera ecuación: P0 5/2 mu = lambda P1\n",
    "    ecuaciones.append(P[0]* 5 * mu / 2 - lmb * P[1])\n",
    "    diccionario_ecuaciones[0] = P[0]* 5 * mu / 2 - lmb * P[1]\n",
    "\n",
    "    # Ecuaciones recursivas para i ∈ {1, 2}\n",
    "    for i in range(1, 3):\n",
    "        ecuacion = P[i]*(lmb + 5 * mu / 2) - P[i-1]* (5 * mu / 2) - lmb * P[i+1]\n",
    "        ecuaciones.append(ecuacion)\n",
    "        diccionario_ecuaciones[i] = ecuacion\n",
    "    \n",
    "    # Ecuaciones recursivas para i ∈ {3, M/2 -1}\n",
    "    for i in range(3, M / 2):\n",
    "        ecuacion = P[i]*(lmb + mu) - P[i-1] * mu - lmb * P[i+1]\n",
    "        ecuaciones.append(ecuacion)\n",
    "        diccionario_ecuaciones[i] = ecuacion\n",
    "    \n",
    "    # Ecuaciones recursivas para i ∈ {M/2, M -1}\n",
    "    for i in range(M / 2, M):\n",
    "        ecuacion = P[i]*(mu + 3 * lmb / 2) - P[i-1] * mu - P[i + 1] * 3 * lmb / 2\n",
    "        ecuaciones.append(ecuacion)\n",
    "        diccionario_ecuaciones[i] = ecuacion\n",
    "\n",
    "    # Última ecuación: PM+1(M + 1)θ = γPM\n",
    "    ecuacion = P[M]* 3 * lmb / 2 - mu * P[M - 1]\n",
    "    ecuaciones.append(ecuacion)\n",
    "    diccionario_ecuaciones[M+1] = ecuacion\n",
    "\n",
    "    # Ecuación de normalización: suma de las probabilidades = 1\n",
    "    ecuacion = sum(P) - 1\n",
    "    ecuaciones.append(ecuacion)\n",
    "    diccionario_ecuaciones['normalizacion'] = ecuacion\n",
    "    \n",
    "    # Resolver el sistema de ecuaciones\n",
    "    soluciones = sp.solve(ecuaciones, P)\n",
    "\n",
    "    # Guardar soluciones en el diccionario\n",
    "    diccionario_soluciones = {i: soluciones[P[i]] for i in range(M+2)}\n",
    "\n",
    "    return diccionario_ecuaciones, diccionario_soluciones\n",
    "\n",
    "    \n",
    "    \n",
    "    return "
   ]
  }
 ],
 "metadata": {
  "kernelspec": {
   "display_name": "Python 3",
   "language": "python",
   "name": "python3"
  },
  "language_info": {
   "codemirror_mode": {
    "name": "ipython",
    "version": 3
   },
   "file_extension": ".py",
   "mimetype": "text/x-python",
   "name": "python",
   "nbconvert_exporter": "python",
   "pygments_lexer": "ipython3",
   "version": "3.11.9"
  }
 },
 "nbformat": 4,
 "nbformat_minor": 2
}
