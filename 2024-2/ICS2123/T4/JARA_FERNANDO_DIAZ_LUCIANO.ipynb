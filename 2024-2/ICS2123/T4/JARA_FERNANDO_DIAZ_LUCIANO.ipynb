{
 "cells": [
  {
   "cell_type": "markdown",
   "metadata": {},
   "source": [
    "# Tarea 4\n",
    "\n",
    "### Luciano Diaz y Fernando Jara, Sección 2"
   ]
  },
  {
   "cell_type": "code",
   "execution_count": 9,
   "metadata": {},
   "outputs": [],
   "source": [
    "import numpy as np\n",
    "import sympy as sp"
   ]
  },
  {
   "cell_type": "markdown",
   "metadata": {},
   "source": [
    "# Pregunta 3.c"
   ]
  },
  {
   "cell_type": "code",
   "execution_count": 10,
   "metadata": {},
   "outputs": [],
   "source": [
    "#parametros\n",
    "M = 24\n",
    "lmb = 0.5\n",
    "mu = np.array([0.1, 0.3, 0.5, 0.7])"
   ]
  },
  {
   "cell_type": "code",
   "execution_count": 11,
   "metadata": {},
   "outputs": [],
   "source": [
    "def resolver_sistema(M: int, lmb: float, mu: float) -> tuple:\n",
    "    \"\"\"\n",
    "    Función que resuelve sistemas de ecuaciones para CMTC\n",
    "    \"\"\"\n",
    "    # Definir las variables de probabilidades \n",
    "    P = [sp.symbols(f'P{i}') for i in range(M+1)]\n",
    "    \n",
    "    # Crear la lista de ecuaciones\n",
    "    ecuaciones = []\n",
    "    diccionario_ecuaciones = {}\n",
    "\n",
    "    # Primera ecuación: P0 5/2 mu = lambda P1\n",
    "    ecuaciones.append(P[0]* 5 * mu / 2 - lmb * P[1])\n",
    "    diccionario_ecuaciones[0] = P[0]* 5 * mu / 2 - lmb * P[1]\n",
    "\n",
    "    # Ecuaciones recursivas para i ∈ {1, 2}\n",
    "    for i in range(1, 3):\n",
    "        ecuacion = P[i]*(lmb + 5 * mu / 2) - P[i-1]* (5 * mu / 2) - lmb * P[i+1]\n",
    "        ecuaciones.append(ecuacion)\n",
    "        diccionario_ecuaciones[i] = ecuacion\n",
    "    \n",
    "    # Ecuaciones recursivas para i ∈ {3, M/2 -1}\n",
    "    for i in range(3, M / 2):\n",
    "        ecuacion = P[i]*(lmb + mu) - P[i-1] * mu - lmb * P[i+1]\n",
    "        ecuaciones.append(ecuacion)\n",
    "        diccionario_ecuaciones[i] = ecuacion\n",
    "    \n",
    "    # Ecuaciones recursivas para i ∈ {M/2, M -1}\n",
    "    for i in range(M / 2, M):\n",
    "        ecuacion = P[i] * (mu + 3 * lmb / 2) - P[i-1] * mu - P[i + 1] * 3 * lmb / 2\n",
    "        ecuaciones.append(ecuacion)\n",
    "        diccionario_ecuaciones[i] = ecuacion\n",
    "\n",
    "    # Última ecuación: PM 3/2 lmb - muPM-1\n",
    "    ecuacion = P[M]* 3 * lmb / 2 - mu * P[M - 1]\n",
    "    ecuaciones.append(ecuacion)\n",
    "    diccionario_ecuaciones[M+1] = ecuacion\n",
    "\n",
    "    # Ecuación de normalización: suma de las probabilidades = 1\n",
    "    ecuacion = sum(P) - 1\n",
    "    ecuaciones.append(ecuacion)\n",
    "    diccionario_ecuaciones['normalizacion'] = ecuacion\n",
    "    \n",
    "    # Resolver el sistema de ecuaciones\n",
    "    soluciones = sp.solve(ecuaciones, P)\n",
    "\n",
    "    # Guardar soluciones en el diccionario\n",
    "    diccionario_soluciones = {i: soluciones[P[i]] for i in range(M+1)}\n",
    "\n",
    "    return diccionario_ecuaciones, diccionario_soluciones"
   ]
  },
  {
   "cell_type": "code",
   "execution_count": 12,
   "metadata": {},
   "outputs": [
    {
     "ename": "TypeError",
     "evalue": "'float' object cannot be interpreted as an integer",
     "output_type": "error",
     "traceback": [
      "\u001b[1;31m---------------------------------------------------------------------------\u001b[0m",
      "\u001b[1;31mTypeError\u001b[0m                                 Traceback (most recent call last)",
      "Cell \u001b[1;32mIn[12], line 2\u001b[0m\n\u001b[0;32m      1\u001b[0m \u001b[38;5;28;01mfor\u001b[39;00m m \u001b[38;5;129;01min\u001b[39;00m mu:\n\u001b[1;32m----> 2\u001b[0m     diccionario_ecuaciones, diccionario_soluciones \u001b[38;5;241m=\u001b[39m \u001b[43mresolver_sistema\u001b[49m\u001b[43m(\u001b[49m\u001b[43mM\u001b[49m\u001b[43m,\u001b[49m\u001b[43m \u001b[49m\u001b[43mlmb\u001b[49m\u001b[43m,\u001b[49m\u001b[43m \u001b[49m\u001b[43mm\u001b[49m\u001b[43m)\u001b[49m\n\u001b[0;32m      4\u001b[0m     \u001b[38;5;66;03m# Imprimir el diccionario de ecuaciones\u001b[39;00m\n\u001b[0;32m      5\u001b[0m     \u001b[38;5;28mprint\u001b[39m(\u001b[38;5;124m\"\u001b[39m\u001b[38;5;124mEcuaciones planteadas:\u001b[39m\u001b[38;5;124m\"\u001b[39m)\n",
      "Cell \u001b[1;32mIn[11], line 23\u001b[0m, in \u001b[0;36mresolver_sistema\u001b[1;34m(M, lmb, mu)\u001b[0m\n\u001b[0;32m     20\u001b[0m     diccionario_ecuaciones[i] \u001b[38;5;241m=\u001b[39m ecuacion\n\u001b[0;32m     22\u001b[0m \u001b[38;5;66;03m# Ecuaciones recursivas para i ∈ {3, M/2 -1}\u001b[39;00m\n\u001b[1;32m---> 23\u001b[0m \u001b[38;5;28;01mfor\u001b[39;00m i \u001b[38;5;129;01min\u001b[39;00m \u001b[38;5;28;43mrange\u001b[39;49m\u001b[43m(\u001b[49m\u001b[38;5;241;43m3\u001b[39;49m\u001b[43m,\u001b[49m\u001b[43m \u001b[49m\u001b[43mM\u001b[49m\u001b[43m \u001b[49m\u001b[38;5;241;43m/\u001b[39;49m\u001b[43m \u001b[49m\u001b[38;5;241;43m2\u001b[39;49m\u001b[43m)\u001b[49m:\n\u001b[0;32m     24\u001b[0m     ecuacion \u001b[38;5;241m=\u001b[39m P[i]\u001b[38;5;241m*\u001b[39m(lmb \u001b[38;5;241m+\u001b[39m mu) \u001b[38;5;241m-\u001b[39m P[i\u001b[38;5;241m-\u001b[39m\u001b[38;5;241m1\u001b[39m] \u001b[38;5;241m*\u001b[39m mu \u001b[38;5;241m-\u001b[39m lmb \u001b[38;5;241m*\u001b[39m P[i\u001b[38;5;241m+\u001b[39m\u001b[38;5;241m1\u001b[39m]\n\u001b[0;32m     25\u001b[0m     ecuaciones\u001b[38;5;241m.\u001b[39mappend(ecuacion)\n",
      "\u001b[1;31mTypeError\u001b[0m: 'float' object cannot be interpreted as an integer"
     ]
    }
   ],
   "source": [
    "for m in mu:\n",
    "    diccionario_ecuaciones, diccionario_soluciones = resolver_sistema(M, lmb, m)\n",
    "\n",
    "    # Imprimir el diccionario de ecuaciones\n",
    "    print(\"Ecuaciones planteadas:\")\n",
    "    for key, eq in diccionario_ecuaciones.items():\n",
    "        print(f\"Ecuación {key}: {eq}\")\n",
    "\n",
    "    # Imprimir las soluciones\n",
    "    print(\"\\nSoluciones del sistema:\")\n",
    "    for key, sol in diccionario_soluciones.items():\n",
    "        print(f\"P{key} = {sol}\")\n",
    "\n",
    "\n",
    "    # Imprimir las soluciones decimales\n",
    "    print(\"\\nSoluciones del sistema (decimal):\")\n",
    "    for key, sol in diccionario_soluciones.items():\n",
    "        print(f\"P{key} = {sol.evalf()}\")"
   ]
  }
 ],
 "metadata": {
  "kernelspec": {
   "display_name": "Python 3",
   "language": "python",
   "name": "python3"
  },
  "language_info": {
   "codemirror_mode": {
    "name": "ipython",
    "version": 3
   },
   "file_extension": ".py",
   "mimetype": "text/x-python",
   "name": "python",
   "nbconvert_exporter": "python",
   "pygments_lexer": "ipython3",
   "version": "3.11.9"
  }
 },
 "nbformat": 4,
 "nbformat_minor": 2
}
