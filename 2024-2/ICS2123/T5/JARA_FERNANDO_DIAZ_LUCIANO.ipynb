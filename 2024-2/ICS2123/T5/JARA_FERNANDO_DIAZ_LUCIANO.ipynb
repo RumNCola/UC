{
 "cells": [
  {
   "cell_type": "markdown",
   "metadata": {},
   "source": [
    "# Tarea 5\n",
    "\n",
    "### Luciano Diaz y Fernando Jara, Sección 2"
   ]
  },
  {
   "cell_type": "markdown",
   "metadata": {},
   "source": [
    "# Pregunta 3"
   ]
  },
  {
   "cell_type": "code",
   "execution_count": 3,
   "metadata": {},
   "outputs": [],
   "source": [
    "import numpy as np"
   ]
  },
  {
   "cell_type": "code",
   "execution_count": 7,
   "metadata": {},
   "outputs": [],
   "source": [
    "#Parametros\n",
    "M = 24\n",
    "lmb = 0.5\n",
    "mu = np.array([0.1, 0.3, 0.5, 0.7])\n",
    "mu = mu[0]\n"
   ]
  },
  {
   "cell_type": "code",
   "execution_count": null,
   "metadata": {},
   "outputs": [
    {
     "name": "stdout",
     "output_type": "stream",
     "text": [
      "[np.float64(0.25), np.float64(1.0), np.float64(1.0), np.float64(0.85), np.float64(0.85), np.float64(0.85), np.float64(0.85), np.float64(0.85), np.float64(0.85), np.float64(0.85), np.float64(0.85), np.float64(0.85), np.float64(0.85), np.float64(0.6), np.float64(0.6), np.float64(0.6), np.float64(0.6), np.float64(0.6), np.float64(0.6), np.float64(0.6), np.float64(0.6), np.float64(0.6), np.float64(0.6), np.float64(0.6), 0.5]\n"
     ]
    }
   ],
   "source": [
    "tasas = [] #tasas de permanencia\n",
    "\n",
    "tasas.append(5 / 2 * mu)\n",
    "for i in range(1, M):\n",
    "    if 1 <= i <= 2:\n",
    "        tasas.append(3 / 2 * lmb + 5 / 2 * mu)\n",
    "    elif 2 < i <= M / 2:\n",
    "        tasas.append(3 / 2 * lmb + mu)\n",
    "    elif M / 2 < i:\n",
    "        tasas.append(lmb + mu)\n",
    "tasas.append(lmb)\n"
   ]
  },
  {
   "cell_type": "code",
   "execution_count": null,
   "metadata": {},
   "outputs": [],
   "source": [
    "class Estado():\n",
    "    \"\"\"\n",
    "    Clase que representa el estado de la cadena\n",
    "    \"\"\"\n",
    "    def __init__(self, estado: int) -> None:\n",
    "        self.estado = estado\n",
    "    \n",
    "    @property\n",
    "    def siguiente(self) -> int:\n",
    "        return self._siguiente\n",
    "    \n",
    "    @siguiente.setter\n",
    "    def siguiente(self) -> None:\n",
    "        if self.estado < M:\n",
    "            self._siguiente = self.estado + 1\n",
    "        else:\n",
    "            self._siguiente = None\n",
    "        \n",
    "    @property\n",
    "    def anterior(self) -> int:\n",
    "        return self._anterior\n",
    "    \n",
    "    @anterior.setter\n",
    "    def anterior(self) -> None:\n",
    "        if self.estado < 0:\n",
    "            self._anterior = self.estado - 1\n",
    "            \n",
    "            if self.estado <= 2:\n",
    "                self.q_derecha = 5 / 2 * mu\n",
    "\n",
    "            elif self.estado < M:\n",
    "                self.q_derecha = mu\n",
    "\n",
    "            else:\n",
    "                self.q_derecha = 0\n",
    "            \n",
    "            if M / 2 < self.estado <= M:\n",
    "                self.q_izquierda = lmb\n",
    "\n",
    "            elif 0 < self.estado <= M / 2:\n",
    "                self.q_izquierda = 3 * lmb / 2\n",
    "\n",
    "            else:\n",
    "                self.q_izquierda = 0\n",
    "\n",
    "        else: #0\n",
    "            self._anterior = None\n",
    "            self.q_derecha = 5 / 2 * mu\n",
    "    \n",
    "    def __repr__(self):\n",
    "        return self.estado\n",
    "\n",
    "class Cadena():\n",
    "    \"\"\"\n",
    "    Clase que representa la cadena\n",
    "    \"\"\""
   ]
  },
  {
   "cell_type": "code",
   "execution_count": null,
   "metadata": {},
   "outputs": [],
   "source": []
  }
 ],
 "metadata": {
  "kernelspec": {
   "display_name": "Python 3",
   "language": "python",
   "name": "python3"
  },
  "language_info": {
   "codemirror_mode": {
    "name": "ipython",
    "version": 3
   },
   "file_extension": ".py",
   "mimetype": "text/x-python",
   "name": "python",
   "nbconvert_exporter": "python",
   "pygments_lexer": "ipython3",
   "version": "3.11.9"
  }
 },
 "nbformat": 4,
 "nbformat_minor": 2
}
