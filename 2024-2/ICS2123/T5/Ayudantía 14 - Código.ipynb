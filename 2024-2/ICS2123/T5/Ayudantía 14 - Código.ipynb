{
 "cells": [
  {
   "cell_type": "markdown",
   "metadata": {},
   "source": [
    "***AYUDANTIA 15***"
   ]
  },
  {
   "cell_type": "markdown",
   "metadata": {},
   "source": [
    "Importar librerias"
   ]
  },
  {
   "cell_type": "code",
   "execution_count": 1,
   "metadata": {},
   "outputs": [],
   "source": [
    "import numpy as np\n",
    "import sympy as sp\n"
   ]
  },
  {
   "cell_type": "markdown",
   "metadata": {},
   "source": [
    "**Forma Matricial**"
   ]
  },
  {
   "cell_type": "markdown",
   "metadata": {},
   "source": [
    "Funciones"
   ]
  },
  {
   "cell_type": "code",
   "execution_count": null,
   "metadata": {},
   "outputs": [],
   "source": [
    "def prob_equilibrio(matriz_tasas):\n",
    "    m_final = []\n",
    "\n",
    "    # creamos y rellenamos matriz final\n",
    "    # (matriz cuadrada llena de ceros que se llenará con las ecuaciones de equilibrio para cada estado)\n",
    "\n",
    "    for i in range(len(matriz_tasas)):\n",
    "        row = []\n",
    "        for j in range(len(matriz_tasas)):\n",
    "            row.append(0)\n",
    "        m_final.append(row)\n",
    "\n",
    "    t = 0\n",
    "    #creamos matriz que representa ecuaciones de equilibrio\n",
    "    for fila in matriz_tasas:\n",
    "        #obtenemos tasas de salida\n",
    "        sale = sum(fila)\n",
    "        #ponemos la tasa de salida en la fila correspondiente al nodo\n",
    "        m_final[t][t] = sale\n",
    "\n",
    "        for h in range(len(matriz_tasas)):\n",
    "            #si estamos en un nodo distinto y llega algo lo ponemos negativo (tasas de llegada)\n",
    "            if h!= t and matriz_tasas[h][t] != 0:\n",
    "                m_final[t][h] = -matriz_tasas[h][t]\n",
    "        t+=1 \n",
    "\n",
    "    #Agregar ecuacuion de normalizacion (sum P_i = 1)\n",
    "    matriz_final = np.vstack((np.matrix(m_final),[[1]*len(m_final)]))\n",
    "    vector_p = np.array([[0]]*(len(matriz_final)-1)+[[1]]).reshape(len(matriz_final))\n",
    "\n",
    "\n",
    "    #Resolver sistema \n",
    "    P = np.linalg.lstsq(matriz_final,vector_p,rcond=-1)[0]\n",
    "\n",
    "    return P\n",
    "\n",
    "\n",
    "def imprimir(P):\n",
    "    k = 0\n",
    "    for fila in P:\n",
    "        print(f\"P_{k} = {fila}\")\n",
    "        k += 1\n",
    "\n",
    "def esperanza(P):\n",
    "    k = 0\n",
    "    esp = 0\n",
    "    for fila in P:\n",
    "        esp += k* fila\n",
    "        k+= 1\n",
    "    return esp"
   ]
  },
  {
   "cell_type": "markdown",
   "metadata": {},
   "source": [
    "Parte 1 "
   ]
  },
  {
   "cell_type": "code",
   "execution_count": 3,
   "metadata": {},
   "outputs": [
    {
     "name": "stdout",
     "output_type": "stream",
     "text": [
      "P_0 = 0.0013717421124828497\n",
      "P_1 = 0.016460905349794185\n",
      "P_2 = 0.08230452674897101\n",
      "P_3 = 0.21947873799725628\n",
      "P_4 = 0.32921810699588455\n",
      "P_5 = 0.2633744855967078\n",
      "P_6 = 0.0877914951989025\n",
      "Esperanza: 3.9999999999999973\n"
     ]
    }
   ],
   "source": [
    "# Definir parametros \n",
    "K = 5\n",
    "gam = 2\n",
    "thet = 1\n",
    "\n",
    "# Crear matriz de tasas \n",
    "# (Cada entrada [i][j] representa la tasa a la que el sistema pasa del estado i al estado j)\n",
    "\n",
    "matriz_tasas1 = [\n",
    "    [0,(K+1)*gam,0,0,0,0,0],\n",
    "    [thet,0,K*gam,0,0,0,0],\n",
    "    [0,2*thet,0,(K-1)*gam,0,0,0],\n",
    "    [0,0,3*thet,0,(K-2)*gam,0,0],\n",
    "    [0,0,0,4*thet,0,(K-3)*gam,0],\n",
    "    [0,0,0,0,5*thet,0,(K-4)*gam],\n",
    "    [0,0,0,0,0,6*thet,0]\n",
    "    ]\n",
    "\n",
    "\n",
    "prob_parte_1 = prob_equilibrio(matriz_tasas1)\n",
    "imprimir(prob_parte_1)\n",
    "esperanza = esperanza(prob_parte_1)\n",
    "print(f\"Esperanza: {esperanza}\")\n"
   ]
  },
  {
   "cell_type": "markdown",
   "metadata": {},
   "source": [
    "Parte 2 (propuesto)"
   ]
  },
  {
   "cell_type": "code",
   "execution_count": 4,
   "metadata": {},
   "outputs": [
    {
     "name": "stdout",
     "output_type": "stream",
     "text": [
      "P_0 = 0.000413736036408771\n",
      "P_1 = 0.00827472072817541\n",
      "P_2 = 0.014894497310715814\n",
      "P_3 = 0.008274720728175448\n",
      "P_4 = 0.21845262722383127\n",
      "P_5 = 0.24493173355399273\n",
      "P_6 = 0.014894497310715763\n",
      "P_7 = 0.24493173355399256\n",
      "P_8 = 0.2449317335539927\n"
     ]
    }
   ],
   "source": [
    "\n",
    "Lambda = 1\n",
    "mu = 2*Lambda\n",
    "\n",
    "\n",
    "matriz_tasas2 = [\n",
    "    [0,10*mu,0,10*mu,0,0,0,0,0],\n",
    "    [Lambda,0,5*mu,0,10*mu,0,0,0,0],\n",
    "    [0,2*Lambda,0,0,0,10*mu,0,0,0],\n",
    "    [Lambda,0,0,0,10*mu,0,5*mu,0,0],\n",
    "    [0,Lambda,0,Lambda,0,mu,0,mu,0],\n",
    "    [0,0,Lambda,0,2*Lambda,0,0,0,mu],\n",
    "    [0,0,0,2*Lambda,0,0,0,10*mu,0],\n",
    "    [0,0,0,0,2*Lambda,0,Lambda,0,mu],\n",
    "    [0,0,0,0,0,2*Lambda,0,2*Lambda,0]\n",
    "    ]\n",
    "\n",
    "prob_parte_2 = prob_equilibrio(matriz_tasas2)\n",
    "imprimir(prob_parte_2)"
   ]
  },
  {
   "cell_type": "markdown",
   "metadata": {},
   "source": [
    "**Forma Sympy**"
   ]
  },
  {
   "cell_type": "code",
   "execution_count": 5,
   "metadata": {},
   "outputs": [],
   "source": [
    "def resolver_sistema(K, gamma, theta):\n",
    "\n",
    "    # Definir las variables de probabilidades \n",
    "    P = [sp.symbols(f'P{i}') for i in range(K+2)]\n",
    "    \n",
    "    # Crear la lista de ecuaciones\n",
    "    ecuaciones = []\n",
    "    diccionario_ecuaciones = {}\n",
    "\n",
    "    # Primera ecuación: P0(K + 1)γ = θP1\n",
    "    ecuaciones.append(P[0]*(K+1)*gamma - theta* P[1])\n",
    "    diccionario_ecuaciones[0] = P[0]*(K+1)*gamma - theta* P[1]\n",
    "\n",
    "    # Ecuaciones recursivas para i ∈ {1, K}\n",
    "    for i in range(1, K):\n",
    "        ecuacion = P[i]*((K-i+1)*gamma + i*theta) - P[i-1]*(K-i+2)*gamma - (i+1)*theta*P[i+1]\n",
    "        ecuaciones.append(ecuacion)\n",
    "        diccionario_ecuaciones[i] = ecuacion\n",
    "\n",
    "    # Última ecuación: PK+1(K + 1)θ = γPK\n",
    "    ecuacion = P[K+1]*(K+1)*theta - gamma * P[K]\n",
    "    ecuaciones.append(ecuacion)\n",
    "    diccionario_ecuaciones[K+1] = ecuacion\n",
    "\n",
    "    # Ecuación de normalización: suma de las probabilidades = 1\n",
    "    ecuacion = sum(P) - 1\n",
    "    ecuaciones.append(ecuacion)\n",
    "    diccionario_ecuaciones['normalizacion'] = ecuacion\n",
    "    \n",
    "    # Resolver el sistema de ecuaciones\n",
    "    soluciones = sp.solve(ecuaciones, P)\n",
    "\n",
    "    # Guardar soluciones en el diccionario\n",
    "    diccionario_soluciones = {i: soluciones[P[i]] for i in range(K+2)}\n",
    "\n",
    "    return diccionario_ecuaciones, diccionario_soluciones\n"
   ]
  },
  {
   "cell_type": "code",
   "execution_count": 6,
   "metadata": {},
   "outputs": [
    {
     "name": "stdout",
     "output_type": "stream",
     "text": [
      "Ecuaciones planteadas:\n",
      "Ecuación 0: 12*P0 - P1\n",
      "Ecuación 1: -12*P0 + 11*P1 - 2*P2\n",
      "Ecuación 2: -10*P1 + 10*P2 - 3*P3\n",
      "Ecuación 3: -8*P2 + 9*P3 - 4*P4\n",
      "Ecuación 4: -6*P3 + 8*P4 - 5*P5\n",
      "Ecuación 6: -2*P5 + 6*P6\n",
      "Ecuación normalizacion: P0 + P1 + P2 + P3 + P4 + P5 + P6 - 1\n",
      "\n",
      "Soluciones del sistema:\n",
      "P0 = 1/729\n",
      "P1 = 4/243\n",
      "P2 = 20/243\n",
      "P3 = 160/729\n",
      "P4 = 80/243\n",
      "P5 = 64/243\n",
      "P6 = 64/729\n",
      "\n",
      "Soluciones del sistema (decimal):\n",
      "P0 = 0.00137174211248285\n",
      "P1 = 0.0164609053497942\n",
      "P2 = 0.0823045267489712\n",
      "P3 = 0.219478737997257\n",
      "P4 = 0.329218106995885\n",
      "P5 = 0.263374485596708\n",
      "P6 = 0.0877914951989026\n"
     ]
    }
   ],
   "source": [
    "\n",
    "K = 5\n",
    "gamma = 2\n",
    "theta = 1\n",
    "\n",
    "diccionario_ecuaciones, diccionario_soluciones = resolver_sistema(K,gamma,theta)\n",
    "\n",
    "# Imprimir el diccionario de ecuaciones\n",
    "print(\"Ecuaciones planteadas:\")\n",
    "for key, eq in diccionario_ecuaciones.items():\n",
    "    print(f\"Ecuación {key}: {eq}\")\n",
    "\n",
    "# Imprimir las soluciones\n",
    "print(\"\\nSoluciones del sistema:\")\n",
    "for key, sol in diccionario_soluciones.items():\n",
    "    print(f\"P{key} = {sol}\")\n",
    "\n",
    "\n",
    "# Imprimir las soluciones decimales\n",
    "print(\"\\nSoluciones del sistema (decimal):\")\n",
    "for key, sol in diccionario_soluciones.items():\n",
    "    print(f\"P{key} = {sol.evalf()}\")\n"
   ]
  }
 ],
 "metadata": {
  "kernelspec": {
   "display_name": "Python 3",
   "language": "python",
   "name": "python3"
  },
  "language_info": {
   "codemirror_mode": {
    "name": "ipython",
    "version": 3
   },
   "file_extension": ".py",
   "mimetype": "text/x-python",
   "name": "python",
   "nbconvert_exporter": "python",
   "pygments_lexer": "ipython3",
   "version": "3.10.6"
  }
 },
 "nbformat": 4,
 "nbformat_minor": 2
}
